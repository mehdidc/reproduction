{
 "metadata": {
  "name": "",
  "signature": "sha256:43b1fa5b3d9d65171029225d2b49aa40748bf8c4a550b5c608ada04a38d389ed"
 },
 "nbformat": 3,
 "nbformat_minor": 0,
 "worksheets": [
  {
   "cells": [
    {
     "cell_type": "code",
     "collapsed": false,
     "input": [
      "import pylearn2\n",
      "from pylearn2.utils import serial\n",
      "from pylearn2.datasets.mnist import MNIST\n",
      "import theano\n",
      "import numpy as np\n",
      "import matplotlib.pyplot as plt\n",
      "from sklearn.decomposition import PCA\n",
      "%matplotlib inline"
     ],
     "language": "python",
     "metadata": {},
     "outputs": [
      {
       "output_type": "stream",
       "stream": "stderr",
       "text": [
        "Using gpu device 0: Tesla K20m\n"
       ]
      }
     ],
     "prompt_number": 1
    },
    {
     "cell_type": "code",
     "collapsed": false,
     "input": [
      "model = serial.load(\"mnist_model.pkl\")\n",
      "data = MNIST('train')\n",
      "labels = data.y\n",
      "data = data.X"
     ],
     "language": "python",
     "metadata": {},
     "outputs": [
      {
       "output_type": "stream",
       "stream": "stdout",
       "text": [
        "(60000, 784) (60000, 1)\n"
       ]
      }
     ],
     "prompt_number": 20
    },
    {
     "cell_type": "code",
     "collapsed": false,
     "input": [
      "X = model.get_input_space().make_theano_batch()\n",
      "X_code = model.encode(X)\n",
      "X_hat = model.decode(X_code)\n",
      "\n",
      "get_code = theano.function([X], X_code)\n",
      "get_reconstruction = theano.function([X], X_hat)\n",
      "\n"
     ],
     "language": "python",
     "metadata": {},
     "outputs": [],
     "prompt_number": 3
    },
    {
     "cell_type": "code",
     "collapsed": false,
     "input": [
      "data_reconstruction = get_reconstruction(data)\n",
      "data_code = get_code(data)\n",
      "data_img = data.reshape( (data.shape[0], 28, 28) )\n",
      "data_reconstruction_img= data_reconstruction.reshape( data_img.shape )"
     ],
     "language": "python",
     "metadata": {},
     "outputs": [],
     "prompt_number": 9
    },
    {
     "cell_type": "code",
     "collapsed": false,
     "input": [
      "#Reconstructions\n",
      "\n",
      "n = 10\n",
      "\n",
      "for i in xrange(n):\n",
      "    k = np.random.randint(0, data.shape[0] - 1)\n",
      "    plt.subplot(n, 2, 2 * i + 1)\n",
      "    plt.axis('off')\n",
      "    plt.imshow(data_img[k], cmap='gray')\n",
      "    plt.subplot(n, 2, 2 * i + 2)\n",
      "    plt.axis('off')\n",
      "    plt.imshow(data_reconstruction_img[k], cmap='gray')\n",
      "plt.show()"
     ],
     "language": "python",
     "metadata": {},
     "outputs": [
      {
       "metadata": {},
       "output_type": "display_data",
       "png": "[encoded data removed]",
       "text": [
        "<matplotlib.figure.Figure at 0x7f6427cb9b10>"
       ]
      }
     ],
     "prompt_number": 10
    },
    {
     "cell_type": "code",
     "collapsed": false,
     "input": [
      "N = 1000\n",
      "pca = PCA(n_components=2)\n",
      "pca.fit(data)\n",
      "data_2d_from_orig = pca.transform(data[0:N])\n",
      "\n",
      "pca = PCA(n_components=2)\n",
      "pca.fit(data_code)\n",
      "data_2d_from_codes = pca.transform(data_code[0:N])"
     ],
     "language": "python",
     "metadata": {},
     "outputs": [],
     "prompt_number": 37
    },
    {
     "cell_type": "code",
     "collapsed": false,
     "input": [
      "plt.subplot(1, 2, 1)\n",
      "plt.scatter(data_2d_from_orig[:, 0], data_2d_from_orig[:, 1], c=labels[0:N])\n",
      "plt.subplot(1, 2, 2)\n",
      "plt.scatter(data_2d_from_codes[:, 0], data_2d_from_codes[:, 1], c=labels[0:N])\n",
      "plt.show()"
     ],
     "language": "python",
     "metadata": {},
     "outputs": [
      {
       "ename": "SyntaxError",
       "evalue": "invalid syntax (<ipython-input-38-23ce1b8446fd>, line 3)",
       "output_type": "pyerr",
       "traceback": [
        "\u001b[1;36m  File \u001b[1;32m\"<ipython-input-38-23ce1b8446fd>\"\u001b[1;36m, line \u001b[1;32m3\u001b[0m\n\u001b[1;33m    plt.subplot(1, 2, 2)\u001b[0m\n\u001b[1;37m      ^\u001b[0m\n\u001b[1;31mSyntaxError\u001b[0m\u001b[1;31m:\u001b[0m invalid syntax\n"
       ]
      }
     ],
     "prompt_number": 38
    }
   ],
   "metadata": {}
  }
 ]
}