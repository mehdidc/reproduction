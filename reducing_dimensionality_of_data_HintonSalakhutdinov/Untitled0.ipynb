{
 "metadata": {
  "name": "",
  "signature": "sha256:26293bf1b1eefe9cffb85dc407e84bcdcadb46f4867ef73d52a7374c5e01afc5"
 },
 "nbformat": 3,
 "nbformat_minor": 0,
 "worksheets": []
}