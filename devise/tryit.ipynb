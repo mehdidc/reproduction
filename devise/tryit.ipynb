{
 "cells": [
  {
   "cell_type": "code",
   "execution_count": null,
   "metadata": {
    "collapsed": false
   },
   "outputs": [],
   "source": [
    "import os\n",
    "os.environ[\"THEANO_FLAGS\"] = \"device=gpu\"\n",
    "from model import build_visual_model\n",
    "from caffezoo.googlenet import GoogleNet\n",
    "from caffezoo.vgg import VGG\n",
    "from lasagne import layers, updates\n",
    "import theano.tensor as T\n",
    "from helpers import load_word_embedding\n",
    "import numpy as np\n",
    "from lasagnekit.easy import (BatchOptimizer, build_batch_iterator,\n",
    "                           InputOutputMapping)\n",
    "from lasagnekit.nnet.capsule import Capsule\n",
    "from lasagnekit.datasets.imagenet import ImageNet\n",
    "import pickle\n",
    "from collections import OrderedDict\n",
    "\n",
    "import lshash\n",
    "#!https://pypi.python.org/pypi/lshash/0.0.4dev\n"
   ]
  },
  {
   "cell_type": "code",
   "execution_count": null,
   "metadata": {
    "collapsed": false
   },
   "outputs": [],
   "source": [
    "# imagenet data\n",
    "batch_size = 10\n",
    "size = (224, 224)\n",
    "imagenet = ImageNet(size=size, nb=batch_size)\n",
    "\n",
    "# word model\n",
    "word2vec_filename = \"data/glove.6B.50d.pkl\"\n",
    "word2vec = load_word_embedding(word2vec_filename)\n",
    "word2int = {word: i for i, word in enumerate(word2vec.keys())}  # NOQA\n",
    "int2word = {i: word for i, word in enumerate(word2vec.keys())}  # NOQA\n",
    "int2vec = np.array([word2vec[int2word[i]]\n",
    "                  for i in range(len(word2vec))])\n",
    "int2vec /= np.sqrt((int2vec**2).sum(axis=1))[:, None]  # unit norm\n",
    "\n",
    "size_embedding = len(word2vec.values()[0])"
   ]
  },
  {
   "cell_type": "code",
   "execution_count": null,
   "metadata": {
    "collapsed": false
   },
   "outputs": [],
   "source": [
    "imagenet.load()"
   ]
  },
  {
   "cell_type": "code",
   "execution_count": null,
   "metadata": {
    "collapsed": false
   },
   "outputs": [],
   "source": [
    "import pickle\n",
    "model = pickle.load(open(\"out/model.pkl\"))"
   ]
  },
  {
   "cell_type": "code",
   "execution_count": null,
   "metadata": {
    "collapsed": false
   },
   "outputs": [],
   "source": [
    "cls = VGG\n",
    "size = (224, 224)\n",
    "visual_model_base = cls(layer_names=[\"input\"], input_size=size,\n",
    "                        resize=False)\n",
    "visual_model_base._load()"
   ]
  },
  {
   "cell_type": "code",
   "execution_count": null,
   "metadata": {
    "collapsed": true
   },
   "outputs": [],
   "source": [
    "g = VGG(layer_names=[\"fc6\"], resize=False)\n",
    "g._load()"
   ]
  },
  {
   "cell_type": "code",
   "execution_count": null,
   "metadata": {
    "collapsed": false
   },
   "outputs": [],
   "source": [
    "x=visual_model_base.preprocess(imagenet.X)\n",
    "print(x.shape)"
   ]
  },
  {
   "cell_type": "code",
   "execution_count": null,
   "metadata": {
    "collapsed": false
   },
   "outputs": [],
   "source": [
    "model[\"embed\"].W.get_value()"
   ]
  },
  {
   "cell_type": "code",
   "execution_count": null,
   "metadata": {
    "collapsed": false
   },
   "outputs": [],
   "source": [
    "import theano\n",
    "embed = theano.function([model[\"input\"].input_var],\n",
    "                        layers.get_output(model[\"embed\"]))"
   ]
  },
  {
   "cell_type": "code",
   "execution_count": null,
   "metadata": {
    "collapsed": false
   },
   "outputs": [],
   "source": [
    "e = embed(x)\n",
    "print(e)\n",
    "#print(e.sum())\n",
    "#e /= np.sqrt(e**2).sum(axis=1)[:, None]"
   ]
  },
  {
   "cell_type": "code",
   "execution_count": null,
   "metadata": {
    "collapsed": false,
    "scrolled": false
   },
   "outputs": [],
   "source": [
    "%matplotlib inline\n",
    "import matplotlib.pyplot as plt\n",
    "for i, w in enumerate(e):\n",
    "    plt.imshow(imagenet.X[i])\n",
    "    plt.show()\n",
    "    sim = (int2vec * w).sum(axis=1)\n",
    "    print(int2word[sim.argmax()])"
   ]
  },
  {
   "cell_type": "code",
   "execution_count": null,
   "metadata": {
    "collapsed": true
   },
   "outputs": [],
   "source": []
  },
  {
   "cell_type": "code",
   "execution_count": null,
   "metadata": {
    "collapsed": true
   },
   "outputs": [],
   "source": []
  }
 ],
 "metadata": {
  "kernelspec": {
   "display_name": "Python 2",
   "language": "python",
   "name": "python2"
  },
  "language_info": {
   "codemirror_mode": {
    "name": "ipython",
    "version": 2
   },
   "file_extension": ".py",
   "mimetype": "text/x-python",
   "name": "python",
   "nbconvert_exporter": "python",
   "pygments_lexer": "ipython2",
   "version": "2.7.10"
  }
 },
 "nbformat": 4,
 "nbformat_minor": 0
}
