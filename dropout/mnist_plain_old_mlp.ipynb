{
 "metadata": {
  "name": "",
  "signature": "sha256:901b164f54fced2c1d927606d3fc2b5f897e6875db805cda2edfe099f13f962d"
 },
 "nbformat": 3,
 "nbformat_minor": 0,
 "worksheets": [
  {
   "cells": [
    {
     "cell_type": "code",
     "collapsed": false,
     "input": [
      "import sys\n",
      "\n",
      "from pylearn2.config import yaml_parse\n",
      "from cStringIO import StringIO\n",
      "import matplotlib.pyplot as plt\n",
      "import time\n",
      "import numpy as np\n",
      "\n",
      "%matplotlib inline"
     ],
     "language": "python",
     "metadata": {},
     "outputs": [
      {
       "output_type": "stream",
       "stream": "stderr",
       "text": [
        "Using gpu device 0: Tesla K20m\n"
       ]
      }
     ],
     "prompt_number": 1
    },
    {
     "cell_type": "code",
     "collapsed": false,
     "input": [
      "class BorrowStdout(object):\n",
      "    \n",
      "    def __init__(self):\n",
      "        self.old = sys.stdout\n",
      "        sys.stdout = StringIO()\n",
      "    \n",
      "    def __enter__(self):\n",
      "       return sys.stdout\n",
      "    \n",
      "    def __exit__(self, *args):\n",
      "        sys.stdout = self.old\n",
      "\n",
      "def train_inst(model, params):\n",
      "    params_inst = {}\n",
      "    for p, v in params.items():\n",
      "        params_inst[p] = eval(v)\n",
      "    print \"Hyper params : \" + str(params_inst)\n",
      "    content = model % params_inst\n",
      "        \n",
      "    t = time.time()\n",
      "    train_obj = yaml_parse.load(content)\n",
      "    with BorrowStdout() as target:\n",
      "        train_obj.main_loop()\n",
      "    val = target.getvalue()\n",
      "\n",
      "    m = (time.time() - t) / 60.\n",
      "    print \"Took %f minutes to train\" % (m,)\n",
      "    return train_obj\n",
      "    "
     ],
     "language": "python",
     "metadata": {},
     "outputs": [],
     "prompt_number": 2
    },
    {
     "cell_type": "code",
     "collapsed": false,
     "input": [
      "content = \"\"\"\n",
      "!obj:pylearn2.train.Train {\n",
      "    dataset: &train !obj:pylearn2.datasets.mnist.MNIST {\n",
      "        which_set: 'train',\n",
      "        start: 0,\n",
      "       stop: 50000\n",
      "    },\n",
      "    model: !obj:pylearn2.models.mlp.MLP {\n",
      "        layers: [ !obj:pylearn2.models.mlp.RectifiedLinear {\n",
      "                     layer_name: 'h0',\n",
      "                     dim: %(nb_units)d,\n",
      "                     irange: 0.1\n",
      "                 }, \n",
      "                 !obj:pylearn2.models.mlp.Softmax {\n",
      "                     layer_name: 'y',\n",
      "                     n_classes: 10,\n",
      "                     irange: 0.\n",
      "                 }\n",
      "                ],\n",
      "                nvis: 784,\n",
      "    },\n",
      "    algorithm: !obj:pylearn2.training_algorithms.sgd.SGD {\n",
      "        batch_size: 100,\n",
      "        learning_rate: .3,\n",
      "        \n",
      "         cost: !obj:pylearn2.costs.cost.SumOfCosts {\n",
      "            costs: [\n",
      "                !obj:pylearn2.costs.mlp.Default {\n",
      "                },\n",
      "                !obj:pylearn2.costs.mlp.WeightDecay {\n",
      "                    coeffs: [%(weight_decay)f, %(weight_decay)f]\n",
      "                },\n",
      "                #!obj:pylearn2.costs.mlp.L1WeightDecay {\n",
      "                #    coeffs: [0.0001, 0.0001]\n",
      "                #},\n",
      "                \n",
      "            ]\n",
      "        },\n",
      "        \n",
      "        monitoring_dataset:\n",
      "            {\n",
      "                'train' : *train,\n",
      "                'valid' : !obj:pylearn2.datasets.mnist.MNIST {\n",
      "                              which_set: 'train',\n",
      "                              start: 50000,\n",
      "                              stop: 60000\n",
      "                          },\n",
      "                'test'  : !obj:pylearn2.datasets.mnist.MNIST {\n",
      "                              which_set: 'test',\n",
      "                          }\n",
      "            },\n",
      "        learning_rule: !obj:pylearn2.training_algorithms.learning_rule.Momentum {\n",
      "            init_momentum: .5\n",
      "        },\n",
      "        termination_criterion: !obj:pylearn2.termination_criteria.And {\n",
      "            criteria: [\n",
      "                !obj:pylearn2.termination_criteria.MonitorBased {\n",
      "                    channel_name: \"train_y_misclass\",\n",
      "                    prop_decrease: 0.,\n",
      "                    N: 10\n",
      "                },\n",
      "                !obj:pylearn2.termination_criteria.EpochCounter {\n",
      "                    max_epochs: 10\n",
      "                }\n",
      "            ]\n",
      "        }\n",
      "    },\n",
      "    extensions: [ !obj:pylearn2.train_extensions.best_params.MonitorBasedSaveBest {\n",
      "             channel_name: 'valid_y_misclass',\n",
      "             save_path: \"best.pkl\"\n",
      "        }, !obj:pylearn2.training_algorithms.learning_rule.MomentumAdjustor {\n",
      "            start: 20,\n",
      "            saturate: 100,\n",
      "            final_momentum: .9\n",
      "        }\n",
      "    ]\n",
      "}\n",
      "\"\"\"\n",
      "\n",
      "params = {\n",
      "    \"weight_decay\": \"np.random.uniform(0.00004, 0.00005)\",\n",
      "    \"nb_units\": \"np.random.randint(1000, 1200)\"\n",
      "}\n",
      "\n",
      "\n",
      "def best(train_obj, which='valid'):\n",
      "    return min(train_obj.model.monitor.channels['%s_y_misclass' % (which,)].val_record)"
     ],
     "language": "python",
     "metadata": {},
     "outputs": [],
     "prompt_number": 11
    },
    {
     "cell_type": "code",
     "collapsed": false,
     "input": [],
     "language": "python",
     "metadata": {},
     "outputs": [
      {
       "output_type": "stream",
       "stream": "stdout",
       "text": [
        "MonitorChannel((monitor_features, monitor_targets),Elemwise{Cast{float32}}.0,train_y_misclass,None)\n"
       ]
      }
     ],
     "prompt_number": 327
    },
    {
     "cell_type": "code",
     "collapsed": false,
     "input": [
      "models = []\n",
      "print\n",
      "for i in xrange(10):\n",
      "    model = train_inst(content, params)\n",
      "    print \"best train error : %f\" % (best(model,'train'),)\n",
      "    print \"best valid error : %f\" % (best(model,'valid'),)\n",
      "    models.append(model)\n",
      "    \n"
     ],
     "language": "python",
     "metadata": {},
     "outputs": [
      {
       "output_type": "stream",
       "stream": "stdout",
       "text": [
        "\n",
        "Hyper params : {'weight_decay': 4.011258416387071e-05, 'nb_units': 1100}\n",
        "(10000, 784)"
       ]
      },
      {
       "output_type": "stream",
       "stream": "stdout",
       "text": [
        " (10000, 1)\n",
        "(50000, 784)"
       ]
      },
      {
       "output_type": "stream",
       "stream": "stdout",
       "text": [
        " (50000, 1)\n",
        "(10000, 784)"
       ]
      },
      {
       "output_type": "stream",
       "stream": "stdout",
       "text": [
        " (10000, 1)\n",
        "Took 1.126033 minutes to train"
       ]
      },
      {
       "output_type": "stream",
       "stream": "stdout",
       "text": [
        "\n",
        "best train error : 0.001000\n",
        "best valid error : 0.018600\n",
        "Hyper params : {'weight_decay': 4.723831821378308e-05, 'nb_units': 1126}\n",
        "(10000, 784)"
       ]
      },
      {
       "output_type": "stream",
       "stream": "stdout",
       "text": [
        " (10000, 1)\n",
        "(50000, 784)"
       ]
      },
      {
       "output_type": "stream",
       "stream": "stdout",
       "text": [
        " (50000, 1)\n",
        "(10000, 784)"
       ]
      },
      {
       "output_type": "stream",
       "stream": "stdout",
       "text": [
        " (10000, 1)\n",
        "Took 1.126036 minutes to train"
       ]
      },
      {
       "output_type": "stream",
       "stream": "stdout",
       "text": [
        "\n",
        "best train error : 0.001180\n",
        "best valid error : 0.017700\n",
        "Hyper params : {'weight_decay': 4.835933884672783e-05, 'nb_units': 1197}\n",
        "(10000, 784)"
       ]
      },
      {
       "output_type": "stream",
       "stream": "stdout",
       "text": [
        " (10000, 1)\n",
        "(50000, 784)"
       ]
      },
      {
       "output_type": "stream",
       "stream": "stdout",
       "text": [
        " (50000, 1)\n",
        "(10000, 784)"
       ]
      },
      {
       "output_type": "stream",
       "stream": "stdout",
       "text": [
        " (10000, 1)\n",
        "Took 1.167064 minutes to train"
       ]
      },
      {
       "output_type": "stream",
       "stream": "stdout",
       "text": [
        "\n",
        "best train error : 0.001200\n",
        "best valid error : 0.019200\n",
        "Hyper params : {'weight_decay': 4.689330493439208e-05, 'nb_units': 1191}\n",
        "(10000, 784)"
       ]
      },
      {
       "output_type": "stream",
       "stream": "stdout",
       "text": [
        " (10000, 1)\n",
        "(50000, 784)"
       ]
      },
      {
       "output_type": "stream",
       "stream": "stdout",
       "text": [
        " (50000, 1)\n",
        "(10000, 784)"
       ]
      },
      {
       "output_type": "stream",
       "stream": "stdout",
       "text": [
        " (10000, 1)\n",
        "Took 1.172817 minutes to train"
       ]
      },
      {
       "output_type": "stream",
       "stream": "stdout",
       "text": [
        "\n",
        "best train error : 0.000880\n",
        "best valid error : 0.018300\n",
        "Hyper params : {'weight_decay': 4.915964538153647e-05, 'nb_units': 1165}\n",
        "(10000, 784)"
       ]
      },
      {
       "output_type": "stream",
       "stream": "stdout",
       "text": [
        " (10000, 1)\n",
        "(50000, 784)"
       ]
      },
      {
       "output_type": "stream",
       "stream": "stdout",
       "text": [
        " (50000, 1)\n",
        "(10000, 784)"
       ]
      },
      {
       "output_type": "stream",
       "stream": "stdout",
       "text": [
        " (10000, 1)\n",
        "Took 1.163007 minutes to train"
       ]
      },
      {
       "output_type": "stream",
       "stream": "stdout",
       "text": [
        "\n",
        "best train error : 0.000880\n",
        "best valid error : 0.018400\n",
        "Hyper params : {'weight_decay': 4.19108229452579e-05, 'nb_units': 1176}\n",
        "(10000, 784)"
       ]
      },
      {
       "output_type": "stream",
       "stream": "stdout",
       "text": [
        " (10000, 1)\n",
        "(50000, 784)"
       ]
      },
      {
       "output_type": "stream",
       "stream": "stdout",
       "text": [
        " (50000, 1)\n",
        "(10000, 784)"
       ]
      },
      {
       "output_type": "stream",
       "stream": "stdout",
       "text": [
        " (10000, 1)\n",
        "Took 1.211344 minutes to train"
       ]
      },
      {
       "output_type": "stream",
       "stream": "stdout",
       "text": [
        "\n",
        "best train error : 0.000820\n",
        "best valid error : 0.018300\n",
        "Hyper params : {'weight_decay': 4.288606189760345e-05, 'nb_units': 1137}\n",
        "(10000, 784)"
       ]
      },
      {
       "output_type": "stream",
       "stream": "stdout",
       "text": [
        " (10000, 1)\n",
        "(50000, 784)"
       ]
      },
      {
       "output_type": "stream",
       "stream": "stdout",
       "text": [
        " (50000, 1)\n",
        "(10000, 784)"
       ]
      },
      {
       "output_type": "stream",
       "stream": "stdout",
       "text": [
        " (10000, 1)\n",
        "Took 1.224638 minutes to train"
       ]
      },
      {
       "output_type": "stream",
       "stream": "stdout",
       "text": [
        "\n",
        "best train error : 0.000760\n",
        "best valid error : 0.018700\n",
        "Hyper params : {'weight_decay': 4.8998235113001876e-05, 'nb_units': 1060}\n",
        "(10000, 784)"
       ]
      },
      {
       "output_type": "stream",
       "stream": "stdout",
       "text": [
        " (10000, 1)\n",
        "(50000, 784)"
       ]
      },
      {
       "output_type": "stream",
       "stream": "stdout",
       "text": [
        " (50000, 1)\n",
        "(10000, 784)"
       ]
      },
      {
       "output_type": "stream",
       "stream": "stdout",
       "text": [
        " (10000, 1)\n",
        "Took 1.358941 minutes to train"
       ]
      },
      {
       "output_type": "stream",
       "stream": "stdout",
       "text": [
        "\n",
        "best train error : 0.001160\n",
        "best valid error : 0.018200\n",
        "Hyper params : {'weight_decay': 4.4148247738958415e-05, 'nb_units': 1041}\n",
        "(10000, 784)"
       ]
      },
      {
       "output_type": "stream",
       "stream": "stdout",
       "text": [
        " (10000, 1)\n",
        "(50000, 784)"
       ]
      },
      {
       "output_type": "stream",
       "stream": "stdout",
       "text": [
        " (50000, 1)\n",
        "(10000, 784)"
       ]
      },
      {
       "output_type": "stream",
       "stream": "stdout",
       "text": [
        " (10000, 1)\n",
        "Took 1.189540 minutes to train"
       ]
      },
      {
       "output_type": "stream",
       "stream": "stdout",
       "text": [
        "\n",
        "best train error : 0.000980\n",
        "best valid error : 0.018200\n",
        "Hyper params : {'weight_decay': 4.288096436648705e-05, 'nb_units': 1010}\n",
        "(10000, 784)"
       ]
      },
      {
       "output_type": "stream",
       "stream": "stdout",
       "text": [
        " (10000, 1)\n",
        "(50000, 784)"
       ]
      },
      {
       "output_type": "stream",
       "stream": "stdout",
       "text": [
        " (50000, 1)\n",
        "(10000, 784)"
       ]
      },
      {
       "output_type": "stream",
       "stream": "stdout",
       "text": [
        " (10000, 1)\n",
        "Took 1.263604 minutes to train"
       ]
      },
      {
       "output_type": "stream",
       "stream": "stdout",
       "text": [
        "\n",
        "best train error : 0.001160\n",
        "best valid error : 0.017400\n"
       ]
      }
     ],
     "prompt_number": 12
    },
    {
     "cell_type": "code",
     "collapsed": false,
     "input": [
      "print len(models)\n",
      "best_model = min(models, key=lambda m:min(m.model.monitor.channels['valid_y_misclass'].val_record))\n",
      "channels = best_model.model.monitor.channels"
     ],
     "language": "python",
     "metadata": {},
     "outputs": []
    },
    {
     "cell_type": "code",
     "collapsed": false,
     "input": [
      "\n",
      "plt.plot(channels['train_y_misclass'].val_record, label='train')\n",
      "plt.plot(channels['valid_y_misclass'].val_record, label='valid')\n",
      "#plt.plot(channels['test_y_misclass'].val_record, label='test')\n",
      "plt.legend()\n",
      "plt.show()\n",
      "n = len(channels['valid_y_misclass'].val_record)\n",
      "\n",
      "print min(channels['train_y_misclass'].val_record)\n",
      "smaller_valid =  min(range(n), key=lambda i:channels['valid_y_misclass'].val_record[i])\n",
      "print (channels['test_y_misclass'].val_record)[smaller_valid]"
     ],
     "language": "python",
     "metadata": {},
     "outputs": [
      {
       "metadata": {},
       "output_type": "display_data",
       "png": "[encoded data removed]",
       "text": [
        "<matplotlib.figure.Figure at 0x7f856f40a6d0>"
       ]
      },
      {
       "output_type": "stream",
       "stream": "stdout",
       "text": [
        "0.000879999657627\n",
        "0.0181999970227\n"
       ]
      }
     ],
     "prompt_number": 10
    },
    {
     "cell_type": "code",
     "collapsed": false,
     "input": [],
     "language": "python",
     "metadata": {},
     "outputs": []
    }
   ],
   "metadata": {}
  }
 ]
}