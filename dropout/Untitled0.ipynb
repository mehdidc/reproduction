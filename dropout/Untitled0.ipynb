{
 "metadata": {
  "name": "",
  "signature": "sha256:1be3fe749a05ee1b1ac82d9052e026231d5849b7589f96d4a6420603ce737f55"
 },
 "nbformat": 3,
 "nbformat_minor": 0,
 "worksheets": [
  {
   "cells": [
    {
     "cell_type": "code",
     "collapsed": false,
     "input": [
      "import numpy as np"
     ],
     "language": "python",
     "metadata": {},
     "outputs": []
    }
   ],
   "metadata": {}
  }
 ]
}